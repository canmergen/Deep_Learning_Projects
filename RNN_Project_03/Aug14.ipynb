{
 "cells": [
  {
   "cell_type": "code",
   "execution_count": 1,
   "id": "310b29a6",
   "metadata": {
    "ExecuteTime": {
     "end_time": "2022-08-25T11:44:56.766437Z",
     "start_time": "2022-08-25T11:44:55.151372Z"
    }
   },
   "outputs": [],
   "source": [
    "import numpy as np\n",
    "import matplotlib.pyplot as plt\n",
    "import pandas as pd\n",
    "\n",
    "import tensorflow as tf\n",
    "from tensorflow import keras"
   ]
  },
  {
   "cell_type": "code",
   "execution_count": 2,
   "id": "efe47362",
   "metadata": {
    "ExecuteTime": {
     "end_time": "2022-08-25T11:44:57.116850Z",
     "start_time": "2022-08-25T11:44:56.767448Z"
    }
   },
   "outputs": [],
   "source": [
    "from sklearn.datasets import fetch_20newsgroups\n",
    "from sklearn.feature_extraction.text import TfidfVectorizer\n",
    "from sklearn.model_selection import StratifiedKFold, GridSearchCV, train_test_split\n",
    "from sklearn.svm import LinearSVC\n",
    "from sklearn.pipeline import Pipeline\n",
    "from sklearn.metrics import accuracy_score"
   ]
  },
  {
   "cell_type": "code",
   "execution_count": 9,
   "id": "96eb29f7",
   "metadata": {
    "ExecuteTime": {
     "end_time": "2022-08-25T11:46:15.608423Z",
     "start_time": "2022-08-25T11:46:15.429939Z"
    }
   },
   "outputs": [
    {
     "name": "stdout",
     "output_type": "stream",
     "text": [
      "857\n",
      "(857,)\n"
     ]
    }
   ],
   "source": [
    "categories = [\"alt.atheism\", \"talk.religion.misc\"]\n",
    "\n",
    "data = fetch_20newsgroups(subset = \"train\", categories = categories)\n",
    "\n",
    "X = data[\"data\"]\n",
    "y = data[\"target\"]\n",
    "\n",
    "print(len(X))\n",
    "print(y.shape)"
   ]
  },
  {
   "cell_type": "code",
   "execution_count": 4,
   "id": "813eca0f",
   "metadata": {},
   "outputs": [
    {
     "name": "stdout",
     "output_type": "stream",
     "text": [
      "(514,)\n",
      "(343,)\n"
     ]
    }
   ],
   "source": [
    "X_train, X_test, y_train, y_test = train_test_split(X, y, test_size = 0.4, \n",
    "                                                    stratify = y, \n",
    "                                                    random_state = 1234)\n",
    "\n",
    "print(y_train.shape)\n",
    "print(y_test.shape)"
   ]
  },
  {
   "cell_type": "code",
   "execution_count": 5,
   "id": "67640fb3",
   "metadata": {},
   "outputs": [
    {
     "name": "stdout",
     "output_type": "stream",
     "text": [
      "From: keith@cco.caltech.edu (Keith Allan Schneider)\n",
      "Subject: Re: <Political Atheists?\n",
      "Organization: California Institute of Technology, Pasadena\n",
      "Lines: 62\n",
      "NNTP-Posting-Host: punisher.caltech.edu\n",
      "\n",
      "(reference line trimmed)\n",
      "\n",
      "SSAUYET@eagle.wesleyan.edu (SCOTT D. SAUYET) writes:\n",
      "\n",
      ">First, I'll make the assumption that you agree that a murderer is one\n",
      ">who has commited murder.\n",
      "\n",
      "Well, I'd say that a murderer is one who intentionally committed a murder.\n",
      "For instance, if you put a bullet into a gun that was thought to contain\n",
      "blanks, and someone was killed with such a gun, the person who actually\n",
      "performed the action isn't the murderer (but I guess this is actually made\n",
      "clear in the below definition).\n",
      "\n",
      ">I'd be interested to see a more reasonable definition. \n",
      "\n",
      "What do you mean by \"reasonable?\"\n",
      "\n",
      ">Otherwise, your inductive definition doesn't bottom out:\n",
      ">Your definition, in essence, is that\n",
      ">>Murder is the intentional killing of someone who has not commited \n",
      ">>murder, against his will.\n",
      ">Expanding the second occurence of `murder' in the above, we see that\n",
      "[...]\n",
      "\n",
      "Yes, it is bad to include the word being defined in the definition.  But,\n",
      "even though the series is recursively infinite, I think the meaning can\n",
      "still be deduced.\n",
      "\n",
      ">I assume you can see the problem here.  To do a correct inductive\n",
      ">definition, you must define something in terms of a simpler case, and\n",
      ">you must have one or several \"bottoming out\" cases.  For instance, we\n",
      ">can define the factorial function (the function which assigns to a\n",
      ">positive integer the product of the positive integers less than or\n",
      ">equal to it) on the positive integers inductively as follows:\n",
      "\n",
      "[math lesson deleted]\n",
      "\n",
      "Okay, let's look at this situation:  suppose there is a longstanding\n",
      "feud between two families which claim that the other committed some\n",
      "travesty in the distant past.  Each time a member of the one family\n",
      "kills a member of the other, the other family thinks that it is justified\n",
      "in killing a that member of the first family.  Now, let's suppose that this\n",
      "sequence has occurred an infinite number of times.  Or, if you don't\n",
      "like dealing with infinities, suppose that one member of the family\n",
      "goes back into time and essentially begins the whole thing.  That is, there\n",
      "is a never-ending loop of slayings based on some non-existent travesty.\n",
      "How do you resolve this?\n",
      "\n",
      "Well, they are all murders.\n",
      "\n",
      "Now, I suppose that this isn't totally applicable to your \"problem,\" but\n",
      "it still is possible to reduce an uninduced system.\n",
      "\n",
      "And, in any case, the nested \"murderer\" in the definition of murder\n",
      "cannot be infintely recursive, given the finite existence of humanity.\n",
      "And, a murder cannot be committed without a killing involved.  So, the\n",
      "first person to intentionally cause someone to get killed is necessarily\n",
      "a murderer.  Is this enough of an induction to solve the apparently\n",
      "unreducable definition?  See, in a totally objective system where all the\n",
      "information is available, such a nested definition isn't really a problem.\n",
      "\n",
      "keith\n",
      "\n",
      "0\n"
     ]
    }
   ],
   "source": [
    "print(X_train[0])\n",
    "print(y_train[0])"
   ]
  },
  {
   "cell_type": "code",
   "execution_count": 6,
   "id": "f64b494f",
   "metadata": {},
   "outputs": [
    {
     "name": "stdout",
     "output_type": "stream",
     "text": [
      "From: Nanci Ann Miller <nm0w+@andrew.cmu.edu>\n",
      "Subject: Re: Concerning God's Morality (long)\n",
      "Organization: Sponsored account, School of Computer Science, Carnegie Mellon, Pittsburgh, PA\n",
      "Lines: 56\n",
      "\t<1993Apr5.084042.822@batman.bmd.trw.com>\n",
      "NNTP-Posting-Host: po5.andrew.cmu.edu\n",
      "In-Reply-To: <1993Apr5.084042.822@batman.bmd.trw.com>\n",
      "\n",
      "\n",
      "jbrown@batman.bmd.trw.com writes:\n",
      "> > Sorry, but there are no supernatural\n",
      "> > forces necessary to create a pathogen.  You are saying, \"Since\n",
      "> > diseases are bad, the bad entity must have created it.\"  So\n",
      "> > what would you say about acid rain, meteors falling from the\n",
      "> > sky, volcanoes, earthquakes, and other QUOTE UNQUOTE \"Acts\n",
      "> > of God?\" \n",
      "> \n",
      "> I would say that they are not \"acts of God\" but natural\n",
      "> occurrences.\n",
      "\n",
      "It amazes me that you have the audacity to say that human creation was not\n",
      "the result of the natural process of evolution (but rather an \"act of God\")\n",
      "and then in the same post say that these other processes (volcanos et al.)\n",
      "are natural occurrences.  Who gave YOU the right to choose what things are\n",
      "natural processes and what are direct acts of God?  How do you know that\n",
      "God doesn't cause each and every natural disaster with a specific purpose\n",
      "in mind?  It would certainly go along with the sadistic nature I've seen in\n",
      "the bible.\n",
      "\n",
      "> >>Even if Satan had nothing to do with the original inception of\n",
      "> >>disease, evolution by random chance would have produced them since\n",
      "> >>humanity forsook God's protection.  If we choose to live apart from\n",
      "> >>God's law (humanity collectively), then it should come as no surprise\n",
      "> >>that there are adverse consequences to our (collective) action.  One\n",
      "> >>of these is that we are left to deal with disease and disorders which\n",
      "> >>inevitably result in an entropic universe.\n",
      "> > \n",
      "> > May I ask, where is this 'collective' bullcrap coming from? \n",
      ">\n",
      "> By \"collective\" I was referring to the idea that God works with\n",
      "> humanity on two levels, individually and collectively.  If mankind\n",
      "> as a whole decides to undertake a certain action (the majority of\n",
      "> mankind), then God will allow the consequences of that action to\n",
      "> affect mankind as a whole.\n",
      "\n",
      "Adam & Eve (TWO PEOPLE), even tho they had the honor (or so you christians\n",
      "claim) of being the first two, definitely do NOT represent a majority in\n",
      "the billions and trillions (probably more) of people that have come after\n",
      "them.  Perhaps they were the majority then, but *I* (and YOU) weren't\n",
      "around to vote, and perhaps we might have voted differently about what to\n",
      "do with that tree.  But your god never asked us.  He just assumes that if\n",
      "you have two bad people then they ALL must be bad.  Hmm.  Sounds like the\n",
      "same kind of false generalization that I see many of the theists posting\n",
      "here resorting to.  So THAT's where they get it... shoulda known.\n",
      "\n",
      "> Jim B.\n",
      "\n",
      "Nanci\n",
      "\n",
      ".........................................................................\n",
      "If you know (and are SURE of) the author of this quote, please send me\n",
      "email (nm0w+@andrew.cmu.edu):\n",
      "Lying to ourselves is more deeply ingrained than lying to others.\n",
      "\n",
      "\n",
      "0\n"
     ]
    }
   ],
   "source": [
    "print(X_train[1])\n",
    "print(y_train[1])"
   ]
  },
  {
   "cell_type": "code",
   "execution_count": 7,
   "id": "7242a5d9",
   "metadata": {},
   "outputs": [
    {
     "data": {
      "text/plain": [
       "GridSearchCV(cv=StratifiedKFold(n_splits=3, random_state=12345, shuffle=True),\n",
       "             estimator=Pipeline(steps=[('feature', TfidfVectorizer()),\n",
       "                                       ('classification', LinearSVC())]),\n",
       "             param_grid=[{'classification__C': [1, 10],\n",
       "                          'feature__max_features': [100, 500, None],\n",
       "                          'feature__sublinear_tf': [True, False]}])"
      ]
     },
     "execution_count": 7,
     "metadata": {},
     "output_type": "execute_result"
    }
   ],
   "source": [
    "pipe = Pipeline([(\"feature\", TfidfVectorizer()),\n",
    "                 (\"classification\", LinearSVC())])\n",
    "\n",
    "cv = StratifiedKFold(n_splits = 3, shuffle = True, random_state = 12345)\n",
    "\n",
    "param_grid = [{\"feature__sublinear_tf\": [True, False],\n",
    "               \"feature__max_features\": [100, 500, None],\n",
    "               \"classification__C\": [1, 10]}]\n",
    "\n",
    "# 3 x (2 x 3 x 2) model will be trained within cross-validation using 40% data\n",
    "# 12 average performance metric will be calculated for parameter combinations\n",
    "# the best parameter combination will be picked\n",
    "# a single model will be trained using 60% data with the best parameter combination\n",
    "\n",
    "gscv = GridSearchCV(pipe, param_grid, cv = cv)\n",
    "gscv.fit(X_train, y_train)"
   ]
  },
  {
   "cell_type": "code",
   "execution_count": 8,
   "id": "d46c1ac5",
   "metadata": {},
   "outputs": [
    {
     "name": "stdout",
     "output_type": "stream",
     "text": [
      "{'classification__C': 10, 'feature__max_features': None, 'feature__sublinear_tf': True}\n",
      "Pipeline(steps=[('feature', TfidfVectorizer(sublinear_tf=True)),\n",
      "                ('classification', LinearSVC(C=10))])\n"
     ]
    }
   ],
   "source": [
    "print(gscv.best_params_)\n",
    "print(gscv.best_estimator_)"
   ]
  },
  {
   "cell_type": "code",
   "execution_count": 9,
   "id": "2b630927",
   "metadata": {},
   "outputs": [
    {
     "name": "stdout",
     "output_type": "stream",
     "text": [
      "1.0 0.9591836734693877\n"
     ]
    }
   ],
   "source": [
    "y_train_hat = gscv.predict(X_train)\n",
    "y_test_hat = gscv.predict(X_test)\n",
    "\n",
    "train_acc = accuracy_score(y_train, y_train_hat)\n",
    "test_acc = accuracy_score(y_test, y_test_hat)\n",
    "\n",
    "print(train_acc, test_acc)"
   ]
  },
  {
   "cell_type": "code",
   "execution_count": 10,
   "id": "cb4b6837",
   "metadata": {},
   "outputs": [],
   "source": [
    "from collections import Counter\n",
    "import string\n",
    "\n",
    "word_counter = Counter()\n",
    "doc_freq_counter = Counter()\n",
    "lengths = []\n",
    "max_length = 0\n",
    "for text_doc in X_train:\n",
    "    doc_set = set()\n",
    "    tmp = text_doc.translate(str.maketrans(\"\", \"\",\n",
    "        string.digits + '’!\"#$%&()*+,-./:;<=>?@[\\\\]^_`{|}~\\t\\'\\n')).lower().split()\n",
    "    for word in tmp:\n",
    "        word_counter[word] += 1\n",
    "        if not(word in doc_set):\n",
    "            doc_freq_counter[word] += 1\n",
    "            doc_set.add(word)\n",
    "    max_length = np.max((max_length, len(tmp)))\n",
    "    lengths.append(len(tmp))"
   ]
  },
  {
   "cell_type": "code",
   "execution_count": 11,
   "id": "4e40567a",
   "metadata": {},
   "outputs": [
    {
     "name": "stdout",
     "output_type": "stream",
     "text": [
      "22093\n",
      "8021\n"
     ]
    }
   ],
   "source": [
    "print(len(word_counter.keys()))\n",
    "print(max_length)"
   ]
  },
  {
   "cell_type": "code",
   "execution_count": 12,
   "id": "02ef886d",
   "metadata": {},
   "outputs": [
    {
     "name": "stdout",
     "output_type": "stream",
     "text": [
      "8021 318.591439688716 530.8229573660119\n"
     ]
    }
   ],
   "source": [
    "print(np.max(lengths), np.mean(lengths), np.std(lengths))"
   ]
  },
  {
   "cell_type": "code",
   "execution_count": 13,
   "id": "888f324e",
   "metadata": {},
   "outputs": [
    {
     "data": {
      "image/png": "[encoded data removed]",
      "text/plain": [
       "<Figure size 432x288 with 1 Axes>"
      ]
     },
     "metadata": {
      "needs_background": "light"
     },
     "output_type": "display_data"
    }
   ],
   "source": [
    "plt.hist(lengths)\n",
    "plt.show()"
   ]
  },
  {
   "cell_type": "code",
   "execution_count": 14,
   "id": "56d5d98c",
   "metadata": {},
   "outputs": [],
   "source": [
    "def plot_most_common(counter, number):\n",
    "    list_of_tuples = counter.most_common(number)\n",
    "    words = []\n",
    "    unzipped = list(zip(*list_of_tuples))\n",
    "    most_common_words = unzipped[0]\n",
    "    frequencies = unzipped[1]\n",
    "    plt.figure(figsize = (16, 7))\n",
    "    plt.bar(range(number), frequencies)\n",
    "    plt.xticks(range(number), most_common_words)\n",
    "    plt.show()\n",
    "    return most_common_words"
   ]
  },
  {
   "cell_type": "code",
   "execution_count": 15,
   "id": "7cdfa3e6",
   "metadata": {},
   "outputs": [
    {
     "data": {
      "image/png": "[encoded data removed]",
      "text/plain": [
       "<Figure size 1152x504 with 1 Axes>"
      ]
     },
     "metadata": {
      "needs_background": "light"
     },
     "output_type": "display_data"
    }
   ],
   "source": [
    "most_common_words = plot_most_common(word_counter, 25)"
   ]
  },
  {
   "cell_type": "code",
   "execution_count": 16,
   "id": "07d7ccfe",
   "metadata": {},
   "outputs": [],
   "source": [
    "tfidf = Counter()\n",
    "N = len(X_train)\n",
    "swc = sum(word_counter.values())\n",
    "\n",
    "# very simple tfidf => not the original one used in the literature\n",
    "for word in word_counter.keys():\n",
    "    tfidf[word] = word_counter[word] / doc_freq_counter[word]"
   ]
  },
  {
   "cell_type": "code",
   "execution_count": 17,
   "id": "06a41ffb",
   "metadata": {},
   "outputs": [
    {
     "data": {
      "image/png": "[encoded data removed]",
      "text/plain": [
       "<Figure size 1152x504 with 1 Axes>"
      ]
     },
     "metadata": {
      "needs_background": "light"
     },
     "output_type": "display_data"
    }
   ],
   "source": [
    "most_common_words_tfidf = plot_most_common(tfidf, 10)"
   ]
  },
  {
   "cell_type": "code",
   "execution_count": 18,
   "id": "3e24776d",
   "metadata": {},
   "outputs": [
    {
     "name": "stdout",
     "output_type": "stream",
     "text": [
      "22068\n",
      "8021\n"
     ]
    }
   ],
   "source": [
    "replace_list = set()\n",
    "for word in most_common_words:\n",
    "    replace_list.add(word)\n",
    "    \n",
    "max_length = 0\n",
    "word_counter = Counter()\n",
    "X_train_new = []\n",
    "for text_doc in X_train:\n",
    "    tmp = text_doc.translate(str.maketrans(\"\", \"\",\n",
    "        string.digits + '’!\"#$%&()*+,-./:;<=>?@[\\\\]^_`{|}~\\t\\'\\n')).lower().split()\n",
    "    text_doc_new = \"\"\n",
    "    for word in tmp:\n",
    "        if not(word in replace_list):\n",
    "            word_counter[word] += 1\n",
    "            text_doc_new += \" \" + word\n",
    "    X_train_new.append(text_doc_new)\n",
    "    max_length = np.max((max_length, len(tmp)))\n",
    "\n",
    "print(len(word_counter.keys()))\n",
    "print(max_length)"
   ]
  },
  {
   "cell_type": "code",
   "execution_count": 19,
   "id": "efbc1140",
   "metadata": {},
   "outputs": [],
   "source": [
    "X_test_new = []\n",
    "for text_doc in X_test:\n",
    "    tmp = text_doc.translate(str.maketrans(\"\", \"\",\n",
    "        string.digits + '’!\"#$%&()*+,-./:;<=>?@[\\\\]^_`{|}~\\t\\'\\n')).lower().split()\n",
    "    text_doc_new = \"\"\n",
    "    for word in tmp:\n",
    "        if not(word in replace_list):\n",
    "            text_doc_new += \" \" + word\n",
    "    X_test_new.append(text_doc_new)"
   ]
  },
  {
   "cell_type": "code",
   "execution_count": 20,
   "id": "510d5b6d",
   "metadata": {},
   "outputs": [
    {
     "data": {
      "image/png": "[encoded data removed]",
      "text/plain": [
       "<Figure size 1152x504 with 1 Axes>"
      ]
     },
     "metadata": {
      "needs_background": "light"
     },
     "output_type": "display_data"
    }
   ],
   "source": [
    "most_common_words = plot_most_common(word_counter, 25)"
   ]
  },
  {
   "cell_type": "code",
   "execution_count": 21,
   "id": "c97f1202",
   "metadata": {},
   "outputs": [
    {
     "name": "stdout",
     "output_type": "stream",
     "text": [
      "22068\n"
     ]
    }
   ],
   "source": [
    "vocabulary_size = len(word_counter.keys())\n",
    "print(vocabulary_size)\n",
    "tokenizer = keras.preprocessing.text.Tokenizer(num_words = vocabulary_size + 1)\n",
    "tokenizer.fit_on_texts(X_train_new)\n",
    "\n",
    "encoded_train = tokenizer.texts_to_sequences(X_train_new)\n",
    "encoded_test = tokenizer.texts_to_sequences(X_test_new)"
   ]
  },
  {
   "cell_type": "code",
   "execution_count": 22,
   "id": "0d321bfe",
   "metadata": {},
   "outputs": [
    {
     "name": "stdout",
     "output_type": "stream",
     "text": [
      "[1811, 1163, 1539, 3870, 11, 1164, 118, 76, 3871, 2312, 774, 974, 459, 141, 2313, 2314, 2315, 2659, 8136, 2660, 5168, 60, 534, 12, 22, 1540, 1660, 521, 880, 8137, 215, 130, 1661, 326, 326, 2661, 79, 219, 21, 6, 17, 41, 19, 3167, 3872, 8138, 3873, 2662, 8139, 8140, 43, 298, 8141, 302, 14, 17, 41, 1, 302, 14, 393, 8142, 8143, 28, 8144, 41, 344, 681, 5169, 460, 393, 914, 915, 163, 7, 303, 3874, 37, 96, 213, 41, 65, 43, 1662, 8145, 1165, 8146, 393, 8147, 18, 616, 116, 568, 6, 91, 8148, 1662, 6, 775, 302, 14, 46, 5, 39, 5170, 128, 550, 227, 157, 393, 3875, 975, 8149, 405, 17, 293, 136, 428, 8150, 371, 158, 267, 810, 68, 54, 4, 345, 64, 125, 5, 476, 8151, 1336, 915, 2031, 811, 17, 2032, 45, 130, 1247, 8152, 118, 8153, 4, 3, 568, 280, 881, 118, 97, 1247, 3876, 37, 73, 131, 22, 2663, 12, 5171, 617, 99, 2316, 520, 9, 65, 3, 499, 592, 1336, 5172, 30, 2664, 460, 7, 5173, 284, 86, 304, 106, 2316, 8154, 812, 2316, 1440, 319, 14, 840, 1247, 154, 1441, 5174, 3876, 4, 976, 266, 1812, 5175, 445, 520, 487, 976, 37, 14, 20, 841, 617, 520, 1541, 976, 8155, 1542, 154, 15, 54, 8156, 1, 64, 1543, 21, 8157, 52, 117, 154, 1248, 5, 2033, 487, 810, 3877, 8158, 305, 40, 15, 131, 8159, 258, 1, 29, 487, 37, 8160, 2665, 258, 3, 159, 5176, 2666, 19, 6, 3168, 1030, 8, 14, 119, 461, 56, 2, 44, 2667, 2317, 154, 326, 15, 37, 1, 10, 79, 326, 2318, 977, 48, 2668, 446, 336, 8161, 53, 61, 842, 8162, 5177, 21, 210, 106, 1, 98, 8163, 418, 228, 8164, 39, 239, 1031, 298, 192, 1096, 3878, 5178, 2319, 40, 2320, 3879, 50, 978, 201]\n"
     ]
    }
   ],
   "source": [
    "print(encoded_train[1])"
   ]
  },
  {
   "cell_type": "code",
   "execution_count": 23,
   "id": "3c7cedd8",
   "metadata": {},
   "outputs": [],
   "source": [
    "max_length = 128\n",
    "padded_train = tf.keras.preprocessing.sequence.pad_sequences(encoded_train,\n",
    "                                                             maxlen = max_length,\n",
    "                                                             padding = \"post\",\n",
    "                                                             truncating = \"pre\")\n",
    "\n",
    "padded_test = tf.keras.preprocessing.sequence.pad_sequences(encoded_test,\n",
    "                                                            maxlen = max_length,\n",
    "                                                            padding = \"post\",\n",
    "                                                            truncating = \"pre\")"
   ]
  },
  {
   "cell_type": "code",
   "execution_count": 24,
   "id": "12f796c1",
   "metadata": {},
   "outputs": [
    {
     "name": "stdout",
     "output_type": "stream",
     "text": [
      "[  86  304  106 2316 8154  812 2316 1440  319   14  840 1247  154 1441\n",
      " 5174 3876    4  976  266 1812 5175  445  520  487  976   37   14   20\n",
      "  841  617  520 1541  976 8155 1542  154   15   54 8156    1   64 1543\n",
      "   21 8157   52  117  154 1248    5 2033  487  810 3877 8158  305   40\n",
      "   15  131 8159  258    1   29  487   37 8160 2665  258    3  159 5176\n",
      " 2666   19    6 3168 1030    8   14  119  461   56    2   44 2667 2317\n",
      "  154  326   15   37    1   10   79  326 2318  977   48 2668  446  336\n",
      " 8161   53   61  842 8162 5177   21  210  106    1   98 8163  418  228\n",
      " 8164   39  239 1031  298  192 1096 3878 5178 2319   40 2320 3879   50\n",
      "  978  201]\n"
     ]
    }
   ],
   "source": [
    "print(padded_train[1]) # goes, going, went, gone, go"
   ]
  },
  {
   "cell_type": "code",
   "execution_count": 25,
   "id": "0fd0f8e1",
   "metadata": {},
   "outputs": [
    {
     "name": "stdout",
     "output_type": "stream",
     "text": [
      "Model: \"sequential\"\n",
      "_________________________________________________________________\n",
      " Layer (type)                Output Shape              Param #   \n",
      "=================================================================\n",
      " embedding (Embedding)       (None, 128, 128)          2824832   \n",
      "                                                                 \n",
      " gru (GRU)                   (None, 256)               296448    \n",
      "                                                                 \n",
      " dropout (Dropout)           (None, 256)               0         \n",
      "                                                                 \n",
      " dense (Dense)               (None, 16)                4112      \n",
      "                                                                 \n",
      " batch_normalization (BatchN  (None, 16)               64        \n",
      " ormalization)                                                   \n",
      "                                                                 \n",
      " dense_1 (Dense)             (None, 1)                 17        \n",
      "                                                                 \n",
      "=================================================================\n",
      "Total params: 3,125,473\n",
      "Trainable params: 3,125,441\n",
      "Non-trainable params: 32\n",
      "_________________________________________________________________\n"
     ]
    },
    {
     "name": "stderr",
     "output_type": "stream",
     "text": [
      "2022-08-14 11:17:30.109149: I tensorflow/core/platform/cpu_feature_guard.cc:151] This TensorFlow binary is optimized with oneAPI Deep Neural Network Library (oneDNN) to use the following CPU instructions in performance-critical operations:  AVX2 FMA\n",
      "To enable them in other operations, rebuild TensorFlow with the appropriate compiler flags.\n"
     ]
    }
   ],
   "source": [
    "embedding_dim = 128\n",
    "\n",
    "rnn_model = keras.models.Sequential([\n",
    "    keras.layers.Embedding(vocabulary_size + 1, embedding_dim, input_length = max_length),\n",
    "    keras.layers.GRU(units = 256),\n",
    "    keras.layers.Dropout(0.5),\n",
    "    keras.layers.Dense(16, activation = \"relu\"),\n",
    "    keras.layers.BatchNormalization(),\n",
    "    keras.layers.Dense(1, activation = \"sigmoid\")\n",
    "])\n",
    "\n",
    "rnn_model.summary()"
   ]
  },
  {
   "cell_type": "code",
   "execution_count": 26,
   "id": "f9642f8e",
   "metadata": {},
   "outputs": [],
   "source": [
    "rnn_model.compile(optimizer = \"adam\",\n",
    "                  loss = \"binary_crossentropy\",\n",
    "                  metrics = [\"accuracy\"])"
   ]
  },
  {
   "cell_type": "code",
   "execution_count": 27,
   "id": "fa791c26",
   "metadata": {
    "scrolled": false
   },
   "outputs": [
    {
     "name": "stdout",
     "output_type": "stream",
     "text": [
      "Epoch 1/100\n",
      "13/13 [==============================] - 3s 151ms/step - loss: 0.7239 - accuracy: 0.4745 - val_loss: 0.6926 - val_accuracy: 0.5534\n",
      "Epoch 2/100\n",
      "13/13 [==============================] - 2s 129ms/step - loss: 0.6427 - accuracy: 0.6375 - val_loss: 0.6914 - val_accuracy: 0.5825\n",
      "Epoch 3/100\n",
      "13/13 [==============================] - 2s 130ms/step - loss: 0.5142 - accuracy: 0.7640 - val_loss: 0.6887 - val_accuracy: 0.6019\n",
      "Epoch 4/100\n",
      "13/13 [==============================] - 2s 117ms/step - loss: 0.4042 - accuracy: 0.7810 - val_loss: 0.6881 - val_accuracy: 0.5728\n",
      "Epoch 5/100\n",
      "13/13 [==============================] - 2s 116ms/step - loss: 0.3997 - accuracy: 0.7445 - val_loss: 0.6779 - val_accuracy: 0.5922\n",
      "Epoch 6/100\n",
      "13/13 [==============================] - 2s 122ms/step - loss: 0.3693 - accuracy: 0.7908 - val_loss: 0.6815 - val_accuracy: 0.5825\n",
      "Epoch 7/100\n",
      "13/13 [==============================] - 2s 140ms/step - loss: 0.3388 - accuracy: 0.7932 - val_loss: 0.6739 - val_accuracy: 0.6311\n",
      "Epoch 8/100\n",
      "13/13 [==============================] - 2s 121ms/step - loss: 0.3289 - accuracy: 0.7835 - val_loss: 0.6493 - val_accuracy: 0.6117\n",
      "Epoch 9/100\n",
      "13/13 [==============================] - 2s 122ms/step - loss: 0.4025 - accuracy: 0.7883 - val_loss: 0.6885 - val_accuracy: 0.5825\n",
      "Epoch 10/100\n",
      "13/13 [==============================] - 2s 119ms/step - loss: 0.3612 - accuracy: 0.7981 - val_loss: 0.6981 - val_accuracy: 0.5728\n",
      "Epoch 11/100\n",
      "13/13 [==============================] - 2s 122ms/step - loss: 0.3539 - accuracy: 0.7591 - val_loss: 0.6971 - val_accuracy: 0.4854\n",
      "Epoch 12/100\n",
      "13/13 [==============================] - 2s 123ms/step - loss: 0.3232 - accuracy: 0.8005 - val_loss: 0.6818 - val_accuracy: 0.6019\n",
      "Epoch 13/100\n",
      "13/13 [==============================] - 2s 120ms/step - loss: 0.2993 - accuracy: 0.8151 - val_loss: 3.6381 - val_accuracy: 0.5922\n",
      "Epoch 14/100\n",
      "13/13 [==============================] - 2s 123ms/step - loss: 0.7125 - accuracy: 0.6302 - val_loss: 2.3087 - val_accuracy: 0.6311\n",
      "Epoch 15/100\n",
      "13/13 [==============================] - 2s 138ms/step - loss: 0.4249 - accuracy: 0.8443 - val_loss: 1.1693 - val_accuracy: 0.7476\n",
      "Epoch 16/100\n",
      "13/13 [==============================] - 2s 120ms/step - loss: 0.3439 - accuracy: 0.8929 - val_loss: 1.2461 - val_accuracy: 0.7282\n",
      "Epoch 17/100\n",
      "13/13 [==============================] - 2s 121ms/step - loss: 0.2950 - accuracy: 0.9051 - val_loss: 0.8819 - val_accuracy: 0.7282\n",
      "Epoch 18/100\n",
      "13/13 [==============================] - 2s 124ms/step - loss: 0.2043 - accuracy: 0.9513 - val_loss: 0.5878 - val_accuracy: 0.7476\n",
      "Epoch 19/100\n",
      "13/13 [==============================] - 2s 122ms/step - loss: 0.2160 - accuracy: 0.9538 - val_loss: 0.8745 - val_accuracy: 0.7476\n",
      "Epoch 20/100\n",
      "13/13 [==============================] - 2s 121ms/step - loss: 0.1606 - accuracy: 0.9659 - val_loss: 1.0644 - val_accuracy: 0.7379\n",
      "Epoch 21/100\n",
      "13/13 [==============================] - 2s 138ms/step - loss: 0.1430 - accuracy: 0.9684 - val_loss: 0.9409 - val_accuracy: 0.7573\n",
      "Epoch 22/100\n",
      "13/13 [==============================] - 2s 136ms/step - loss: 0.1587 - accuracy: 0.9659 - val_loss: 0.8821 - val_accuracy: 0.7670\n",
      "Epoch 23/100\n",
      "13/13 [==============================] - 2s 118ms/step - loss: 0.1584 - accuracy: 0.9635 - val_loss: 0.9369 - val_accuracy: 0.7573\n",
      "Epoch 24/100\n",
      "13/13 [==============================] - 2s 122ms/step - loss: 0.1301 - accuracy: 0.9708 - val_loss: 1.1142 - val_accuracy: 0.7379\n",
      "Epoch 25/100\n",
      "13/13 [==============================] - 2s 127ms/step - loss: 0.1426 - accuracy: 0.9708 - val_loss: 1.1282 - val_accuracy: 0.7282\n",
      "Epoch 26/100\n",
      "13/13 [==============================] - 2s 126ms/step - loss: 0.1513 - accuracy: 0.9708 - val_loss: 1.1118 - val_accuracy: 0.7184\n",
      "Epoch 27/100\n",
      "13/13 [==============================] - 2s 122ms/step - loss: 0.1072 - accuracy: 0.9781 - val_loss: 1.2041 - val_accuracy: 0.7087\n",
      "Epoch 28/100\n",
      "13/13 [==============================] - 2s 122ms/step - loss: 0.1103 - accuracy: 0.9781 - val_loss: 1.2454 - val_accuracy: 0.6990\n",
      "Epoch 29/100\n",
      "13/13 [==============================] - 2s 124ms/step - loss: 0.1143 - accuracy: 0.9781 - val_loss: 1.2569 - val_accuracy: 0.7087\n",
      "Epoch 30/100\n",
      "13/13 [==============================] - 2s 125ms/step - loss: 0.0782 - accuracy: 0.9830 - val_loss: 1.1677 - val_accuracy: 0.7282\n",
      "Epoch 31/100\n",
      "13/13 [==============================] - 2s 121ms/step - loss: 0.0877 - accuracy: 0.9830 - val_loss: 1.0998 - val_accuracy: 0.7379\n",
      "Epoch 32/100\n",
      "13/13 [==============================] - 2s 125ms/step - loss: 0.0780 - accuracy: 0.9830 - val_loss: 1.2467 - val_accuracy: 0.7282\n"
     ]
    }
   ],
   "source": [
    "early_stop = keras.callbacks.EarlyStopping(monitor = \"val_accuracy\",\n",
    "                                           patience = 10)\n",
    "\n",
    "model_save = keras.callbacks.ModelCheckpoint(\"checkpoint_news\",\n",
    "                                             monitor = \"val_accuracy\",\n",
    "                                             save_best_only = True,\n",
    "                                             save_weights_only = True,\n",
    "                                             mode = \"max\")\n",
    "\n",
    "rnn_history = rnn_model.fit(padded_train, y_train,\n",
    "                            epochs = 100, verbose = 1,\n",
    "                            validation_split = 0.2,\n",
    "                            callbacks = [early_stop, model_save])"
   ]
  },
  {
   "cell_type": "code",
   "execution_count": 28,
   "id": "00204252",
   "metadata": {},
   "outputs": [
    {
     "data": {
      "text/plain": [
       "<tensorflow.python.training.tracking.util.CheckpointLoadStatus at 0x1328b1b50>"
      ]
     },
     "execution_count": 28,
     "metadata": {},
     "output_type": "execute_result"
    }
   ],
   "source": [
    "rnn_model.load_weights(\"checkpoint_news\")"
   ]
  },
  {
   "cell_type": "code",
   "execution_count": 29,
   "id": "10433e33",
   "metadata": {},
   "outputs": [
    {
     "name": "stdout",
     "output_type": "stream",
     "text": [
      "17/17 [==============================] - 0s 27ms/step - loss: 0.2986 - accuracy: 0.9222\n"
     ]
    },
    {
     "data": {
      "text/plain": [
       "[0.2986149489879608, 0.9221789836883545]"
      ]
     },
     "execution_count": 29,
     "metadata": {},
     "output_type": "execute_result"
    }
   ],
   "source": [
    "rnn_model.evaluate(padded_train, y_train)"
   ]
  },
  {
   "cell_type": "code",
   "execution_count": 30,
   "id": "2e962862",
   "metadata": {},
   "outputs": [
    {
     "name": "stdout",
     "output_type": "stream",
     "text": [
      "11/11 [==============================] - 0s 28ms/step - loss: 0.6611 - accuracy: 0.8076\n"
     ]
    },
    {
     "data": {
      "text/plain": [
       "[0.6611387133598328, 0.8075801730155945]"
      ]
     },
     "execution_count": 30,
     "metadata": {},
     "output_type": "execute_result"
    }
   ],
   "source": [
    "rnn_model.evaluate(padded_test, y_test)"
   ]
  }
 ],
 "metadata": {
  "kernelspec": {
   "display_name": "Python 3 (ipykernel)",
   "language": "python",
   "name": "python3"
  },
  "language_info": {
   "codemirror_mode": {
    "name": "ipython",
    "version": 3
   },
   "file_extension": ".py",
   "mimetype": "text/x-python",
   "name": "python",
   "nbconvert_exporter": "python",
   "pygments_lexer": "ipython3",
   "version": "3.8.13"
  }
 },
 "nbformat": 4,
 "nbformat_minor": 5
}
